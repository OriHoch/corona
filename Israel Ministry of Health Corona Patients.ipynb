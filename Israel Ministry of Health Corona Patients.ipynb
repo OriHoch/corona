{
 "cells": [
  {
   "cell_type": "code",
   "execution_count": 143,
   "metadata": {},
   "outputs": [
    {
     "data": {
      "text/html": [
       "<h3>all_cards</h3>"
      ],
      "text/plain": [
       "<IPython.core.display.HTML object>"
      ]
     },
     "metadata": {},
     "output_type": "display_data"
    },
    {
     "data": {
      "text/html": [
       "<table>\n",
       "<thead>\n",
       "<tr><th>#  </th><th>is_patient\n",
       "(boolean)      </th><th>header\n",
       "(string)                                                                                </th><th>body\n",
       "(string)  </th></tr>\n",
       "</thead>\n",
       "<tbody>\n",
       "<tr><td>1  </td><td>True </td><td>חולים 332, 325, 333, 332, 343 - 19/03/2020                                     </td><td><div class=\"card-body content-txt\">&#13;\n",
       "                                <p>&#13;\n",
       "                   ...  </td></tr>\n",
       "<tr><td>2  </td><td>True </td><td>חולים 490, 357, 373, 387, 418, 400, 356, 347, 367, 338, 378 - 19/03/2020, 19:00</td><td><div class=\"card-body content-txt\">&#13;\n",
       "                                <p>&#13;\n",
       "                   ...  </td></tr>\n",
       "<tr><td>...</td><td>     </td><td>                                                                               </td><td> </td></tr>\n",
       "<tr><td>172</td><td>False</td><td>אזהרת מסע כוללת לאיטליה 27.02.20 - 09:50                                       </td><td><div class=\"card-body content-txt\">&#13;\n",
       "                                <p>&#13;\n",
       "                   ...  </td></tr>\n",
       "</tbody>\n",
       "</table>"
      ],
      "text/plain": [
       "<IPython.core.display.HTML object>"
      ]
     },
     "metadata": {},
     "output_type": "display_data"
    },
    {
     "data": {
      "text/plain": [
       "{'count_of_rows': 172,\n",
       " 'bytes': 556979,\n",
       " 'hash': '05ba6b7919ca2c1306d22d32e543d0e7',\n",
       " 'dataset_name': None}"
      ]
     },
     "execution_count": 143,
     "metadata": {},
     "output_type": "execute_result"
    }
   ],
   "source": [
    "import requests\n",
    "from pyquery import PyQuery as pq\n",
    "from dataflows import Flow, printer, update_resource, dump_to_path, add_field, delete_fields, set_type\n",
    "\n",
    "def get_doc():\n",
    "    res = requests.get('https://govextra.gov.il/ministry-of-health/corona/corona-virus/spokesman-messages-corona/')\n",
    "    return pq(res.text)\n",
    "\n",
    "def get_cards():\n",
    "    patients_parent = None\n",
    "    for cardnum, card in enumerate(get_doc().find('.card')):\n",
    "        if cardnum == 0:\n",
    "            patients_parent = card.getparent()\n",
    "            is_patient = True\n",
    "        elif card.getparent() == patients_parent:\n",
    "            is_patient = True\n",
    "        else:\n",
    "            is_patient = False\n",
    "        yield {\n",
    "            'is_patient': is_patient,\n",
    "            'header': pq(pq(card).find('.card-header')).text(),\n",
    "            'body': str(pq(pq(card).find('.card-body')))\n",
    "        }\n",
    "\n",
    "Flow(\n",
    "    get_cards(),\n",
    "    set_type('is_patient', type='boolean'),\n",
    "    set_type('header', type='string'),\n",
    "    set_type('body', type='string'),\n",
    "    update_resource('res_1', name='all_cards', path='all_cards.csv'),\n",
    "    printer(tablefmt='html', num_rows=1),\n",
    "    dump_to_path('data/MOHPatients/all_cards')\n",
    ").process()[1]"
   ]
  },
  {
   "cell_type": "code",
   "execution_count": 145,
   "metadata": {},
   "outputs": [
    {
     "data": {
      "text/html": [
       "<h3>patient_nums</h3>"
      ],
      "text/plain": [
       "<IPython.core.display.HTML object>"
      ]
     },
     "metadata": {},
     "output_type": "display_data"
    },
    {
     "data": {
      "text/html": [
       "<table>\n",
       "<thead>\n",
       "<tr><th>#  </th><th>header\n",
       "(string)                                                                                </th><th>body\n",
       "(string)  </th><th>date\n",
       "(datetime)                    </th><th>nums\n",
       "(array)                                                        </th></tr>\n",
       "</thead>\n",
       "<tbody>\n",
       "<tr><td>1  </td><td>חולים 332, 325, 333, 332, 343 - 19/03/2020                                     </td><td><div class=\"card-body content-txt\">&#13;\n",
       "                                <p>&#13;\n",
       "                   ...  </td><td>2020-03-19 00:00:00</td><td>[332, 325, 333, 332, 343]                              </td></tr>\n",
       "<tr><td>2  </td><td>חולים 490, 357, 373, 387, 418, 400, 356, 347, 367, 338, 378 - 19/03/2020, 19:00</td><td><div class=\"card-body content-txt\">&#13;\n",
       "                                <p>&#13;\n",
       "                   ...  </td><td>2020-03-19 19:00:00</td><td>[490, 357, 373, 387, 418, 400, 356, 347, 367, 338, 378]</td></tr>\n",
       "<tr><td>...</td><td>                                                                               </td><td> </td><td>                   </td><td>                                                       </td></tr>\n",
       "<tr><td>144</td><td>חולה 114 - 13/03/2020, 10:30                                                   </td><td><div class=\"card-body content-txt\">&#13;\n",
       "                                <p>&#13;\n",
       "                   ...  </td><td>2020-03-13 10:30:00</td><td>[114]                                                  </td></tr>\n",
       "</tbody>\n",
       "</table>"
      ],
      "text/plain": [
       "<IPython.core.display.HTML object>"
      ]
     },
     "metadata": {},
     "output_type": "display_data"
    },
    {
     "data": {
      "text/plain": [
       "{'count_of_rows': 144,\n",
       " 'bytes': 504664,\n",
       " 'hash': '9a94668ba99e0b7b53dfc673e3b3de2a',\n",
       " 'dataset_name': None}"
      ]
     },
     "execution_count": 145,
     "metadata": {},
     "output_type": "execute_result"
    }
   ],
   "source": [
    "import re, datetime\n",
    "from dataflows import filter_rows\n",
    "\n",
    "def try_nums(numstrings):\n",
    "    for c in 'קראטוןםפשדגכעיחלךףזסבהנמצתץ':\n",
    "        numstrings = numstrings.replace(c, '')\n",
    "    try:\n",
    "        if ',' in numstrings:\n",
    "            nums  = [int(numstring.strip()) for numstring in numstrings.split(',')]\n",
    "        else:\n",
    "            nums = [int(numstrings.strip())]\n",
    "        if len(nums) > 0:\n",
    "            return nums\n",
    "        else:\n",
    "            return False\n",
    "    except Exception:\n",
    "        return False\n",
    "\n",
    "def parse_patients(row):\n",
    "    numstrings = row['header'].split('חול')[1].split('-')[0].replace('ה ', '').replace('ים ', '')\n",
    "    nums = try_nums(numstrings)\n",
    "    if nums == False:\n",
    "        nums = try_nums(numstrings.split(',')[0])\n",
    "        if nums == False:\n",
    "            nums = try_nums(numstrings.split(' ')[0])\n",
    "    if nums == False:\n",
    "        raise Exception('invalid header: ' + row['header'])\n",
    "    # 15/03/2020, 10:30\n",
    "    m = re.search('([0-9]+/[0-9]+/[0-9]+)', row['header']) \n",
    "    if m is None:\n",
    "        datestring = None\n",
    "    else:\n",
    "        datestring = m[0]\n",
    "    m = re.search('([0-9]+:[0-9]+)', row['header'])\n",
    "    if m is None:\n",
    "        timestring = None\n",
    "    else:\n",
    "        timestring = m[0]\n",
    "    if datestring and timestring:\n",
    "        dt = datetime.datetime.strptime('%s %s' % (datestring, timestring), '%d/%m/%Y %H:%M')\n",
    "    elif datestring:\n",
    "        dt = datetime.datetime.strptime(datestring, '%d/%m/%Y')\n",
    "    else:\n",
    "        dt = None\n",
    "    row['date'] = dt\n",
    "    row['nums'] = nums\n",
    "    \n",
    "\n",
    "Flow(\n",
    "    load('data/MOHPatients/all_cards/datapackage.json'),\n",
    "    filter_rows(lambda row: row['is_patient']),\n",
    "    add_field('date', type='datetime'),\n",
    "    add_field('nums', type='array'),\n",
    "    parse_patients,\n",
    "    delete_fields(['is_patient']),\n",
    "    update_resource('all_cards', name='patient_nums', path='patient_nums.csv'),\n",
    "    printer(tablefmt='html', num_rows=1),\n",
    "    dump_to_path('data/MOHPatients/patient_nums')\n",
    ").process()[1]"
   ]
  },
  {
   "cell_type": "code",
   "execution_count": 175,
   "metadata": {},
   "outputs": [
    {
     "data": {
      "text/plain": [
       "<dataflows.base.flow.Flow at 0x7fc9f6f2cdd8>"
      ]
     },
     "execution_count": 175,
     "metadata": {},
     "output_type": "execute_result"
    }
   ],
   "source": [
    "from dataflows import load, delete_fields\n",
    "\n",
    "def parse_headers(rows):\n",
    "    for row in rows:\n",
    "        print(row['header'])\n",
    "        print(row['date'])\n",
    "        print(row['nums'])\n",
    "        print('^^^')\n",
    "        header = None\n",
    "        content = []\n",
    "        child_rows = []\n",
    "        for child in pq(pq(row['body'])('.card-body')).children():\n",
    "            child_text = pq(child).text().strip()\n",
    "            if child_text.strip() == '': continue\n",
    "            if '<strong' in pq(child).html().lower():\n",
    "                if header is not None:\n",
    "                    child_rows.append({'header': header, 'content': \"\\n\".join(content)})\n",
    "                header = child_text\n",
    "                content = []\n",
    "            else:\n",
    "                content.append(pq(child).text())\n",
    "        if header is not None:\n",
    "            child_rows.append({'header': header, 'content': \"\\n\".join(content)})\n",
    "        patient_nums = {}\n",
    "        cur_patient_num = None\n",
    "        for child_row in child_rows:\n",
    "            if child_row['header'].strip().startswith('חול'):\n",
    "                for patient_num in re.findall(r'[0-9]+', child_row['header']):\n",
    "                    if int(patient_num) in row['nums']:\n",
    "                        cur_patient_num = int(patient_num)\n",
    "                        patient_nums.setdefault(cur_patient_num, []).append(child_row)\n",
    "                    else:\n",
    "                        raise Exception('Invalid patient num: ' + patient_num)                    \n",
    "            elif cur_patient_num:\n",
    "                patient_nums[cur_patient_num].append(child_row)\n",
    "            else:\n",
    "                patient_nums.setdefault(-1, []).append(child_row)\n",
    "                cur_patient_num = None\n",
    "        for num, crows in patient_nums.items():\n",
    "            print(num)\n",
    "            for crow in crows:\n",
    "                print(crow)\n",
    "            print('----')\n",
    "        break\n",
    "        \n",
    "        \n",
    "       \n",
    "Flow(\n",
    "    load('data/MOHPatients/patient_nums/datapackage.json'),\n",
    "    add_field('main_header', type='string'),\n",
    "    add_field('content', type='string'),\n",
    "    parse_headers,\n",
    "    delete_fields(['body']),\n",
    "    printer(tablefmt='html')\n",
    ")  # .process()[1]"
   ]
  }
 ],
 "metadata": {
  "kernelspec": {
   "display_name": "Python 3",
   "language": "python",
   "name": "python3"
  },
  "language_info": {
   "codemirror_mode": {
    "name": "ipython",
    "version": 3
   },
   "file_extension": ".py",
   "mimetype": "text/x-python",
   "name": "python",
   "nbconvert_exporter": "python",
   "pygments_lexer": "ipython3",
   "version": "3.6.9"
  }
 },
 "nbformat": 4,
 "nbformat_minor": 4
}
