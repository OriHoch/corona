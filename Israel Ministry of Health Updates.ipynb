{
 "cells": [
  {
   "cell_type": "code",
   "execution_count": 165,
   "metadata": {},
   "outputs": [
    {
     "name": "stdout",
     "output_type": "stream",
     "text": [
      "loading https://t.me/s/MOHreport\n",
      "loading https://t.me/s/MOHreport?before=3085\n",
      "loading https://t.me/s/MOHreport?before=3065\n",
      "loading https://t.me/s/MOHreport?before=3045\n",
      "loading https://t.me/s/MOHreport?before=3025\n"
     ]
    },
    {
     "data": {
      "text/html": [
       "<h3>res_1</h3>"
      ],
      "text/plain": [
       "<IPython.core.display.HTML object>"
      ]
     },
     "metadata": {},
     "output_type": "display_data"
    },
    {
     "name": "stdout",
     "output_type": "stream",
     "text": [
      "loading https://t.me/s/MOHreport?before=3004\n",
      "loading https://t.me/s/MOHreport?before=2984\n",
      "loading https://t.me/s/MOHreport?before=2964\n",
      "loading https://t.me/s/MOHreport?before=2943\n",
      "loading https://t.me/s/MOHreport?before=2922\n",
      "loading https://t.me/s/MOHreport?before=2902\n",
      "loading https://t.me/s/MOHreport?before=2882\n",
      "loading https://t.me/s/MOHreport?before=2862\n",
      "loading https://t.me/s/MOHreport?before=2841\n",
      "loading https://t.me/s/MOHreport?before=2821\n",
      "loading https://t.me/s/MOHreport?before=2800\n",
      "loading https://t.me/s/MOHreport?before=2779\n",
      "loading https://t.me/s/MOHreport?before=2759\n",
      "loading https://t.me/s/MOHreport?before=2738\n",
      "loading https://t.me/s/MOHreport?before=2717\n",
      "loading https://t.me/s/MOHreport?before=2697\n",
      "loading https://t.me/s/MOHreport?before=2677\n",
      "loading https://t.me/s/MOHreport?before=2657\n",
      "loading https://t.me/s/MOHreport?before=2635\n",
      "loading https://t.me/s/MOHreport?before=2615\n",
      "loading https://t.me/s/MOHreport?before=2593\n",
      "loading https://t.me/s/MOHreport?before=2569\n",
      "loading https://t.me/s/MOHreport?before=2549\n"
     ]
    },
    {
     "data": {
      "text/html": [
       "<table>\n",
       "<thead>\n",
       "<tr><th>#  </th><th style=\"text-align: right;\">     id\n",
       "(integer)</th><th>date\n",
       "(datetime)                    </th><th>text\n",
       "(string)     </th><th>images\n",
       "(string)     </th></tr>\n",
       "</thead>\n",
       "<tbody>\n",
       "<tr><td>1  </td><td style=\"text-align: right;\">3104</td><td>2020-03-15 18:08:55</td><td>חולה 187- עדכון מקום שהייה (8.3)\n",
       "<a href=\"https://t.me/MOHreport/3060\" target=\"_blank\" rel=\"noopener ...     </td><td>None</td></tr>\n",
       "<tr><td>2  </td><td style=\"text-align: right;\">3103</td><td>2020-03-15 17:45:47</td><td>הודעה לציבור- חולה קורונה- חולה מספר 205 >>>>>>\n",
       "יום א', 15.3, 19:00\n",
       "\n",
       "החולה בשנות ה- 60 לחייה, ממרכז  ...     </td><td>None</td></tr>\n",
       "<tr><td>...</td><td style=\"text-align: right;\">    </td><td>                   </td><td>    </td><td>    </td></tr>\n",
       "<tr><td>520</td><td style=\"text-align: right;\">2511</td><td>2020-01-30 12:10:52</td><td>None</td><td>None</td></tr>\n",
       "</tbody>\n",
       "</table>"
      ],
      "text/plain": [
       "<IPython.core.display.HTML object>"
      ]
     },
     "metadata": {},
     "output_type": "display_data"
    },
    {
     "data": {
      "text/plain": [
       "(<datapackage.package.Package at 0x7f768439f048>,\n",
       " {'count_of_rows': 520,\n",
       "  'bytes': 562595,\n",
       "  'hash': '62ae5e2748ed5f7801e97bcd8e7c5c6e',\n",
       "  'dataset_name': None})"
      ]
     },
     "execution_count": 165,
     "metadata": {},
     "output_type": "execute_result"
    }
   ],
   "source": [
    "import requests, datetime, time\n",
    "from pyquery import PyQuery as pq\n",
    "from dataflows import Flow, printer, dump_to_path, sort_rows\n",
    "\n",
    "\n",
    "def get_messages(before_id=None):\n",
    "    url = 'https://t.me/s/MOHreport'\n",
    "    if before_id:\n",
    "        url += '?before=' + str(before_id)\n",
    "    print('loading ' + url)\n",
    "    for message in pq(requests.get(url).text)('[data-post]'):\n",
    "        message_id = int(message.attrib['data-post'].replace('MOHreport/', ''))\n",
    "        date_elts = message.find_class('tgme_widget_message_date')\n",
    "        assert len(date_elts) == 1\n",
    "        date_elt = date_elts[0]\n",
    "        message_datetime = next(date_elt.iterchildren()).attrib['datetime']\n",
    "        message_datetime = \"\".join(reversed(\"\".join(reversed(message_datetime)).replace(':','',1)))\n",
    "        message_datetime = datetime.datetime.strptime(message_datetime, '%Y-%m-%dT%H:%M:%S%z')\n",
    "        content_elts = message.find_class('tgme_widget_message_bubble')\n",
    "        assert len(content_elts) == 1\n",
    "        content_elt = content_elts[0]\n",
    "        message_htmls = []\n",
    "        image_urls = []\n",
    "        for child in content_elt.iterchildren():\n",
    "            if 'tgme_widget_message_text' in list(child.classes):\n",
    "                message_htmls.append(pq(child).html())\n",
    "            elif 'tgme_widget_message_photo_wrap' in list(child.classes):\n",
    "                image_urls.append(child.attrib['style'].split(\"url('\")[1].split(\"'\")[0])        \n",
    "        message_html = \"<br/><br/>\".join(message_htmls)\n",
    "        message_text = message_html.replace('<br/>', \"\\n\")\n",
    "        image_urls = \",\".join(image_urls)\n",
    "        yield {'id': message_id, 'date': message_datetime, 'text': message_text, 'images': image_urls}\n",
    "\n",
    "        \n",
    "def get_all_messages():\n",
    "    last_message_id = None\n",
    "    num_messages = 0\n",
    "    while True:\n",
    "        if num_messages > 0 and num_messages % 500 == 0: print('Loaded ' + str(num_messages) + ' messages..')\n",
    "        if last_message_id and last_message_id <= 2525: break\n",
    "        for message in get_messages(last_message_id):\n",
    "            if not last_message_id or message['id'] < last_message_id:\n",
    "                last_message_id = message['id']\n",
    "            yield message\n",
    "            num_messages += 1\n",
    "        print('sleeping .1 seconds..')\n",
    "        time.sleep(.1)\n",
    "\n",
    "\n",
    "Flow(\n",
    "    get_all_messages(),\n",
    "    sort_rows('{date}', reverse=True),\n",
    "    printer(tablefmt='html', num_rows=1),\n",
    "    dump_to_path('data/MOHReport')\n",
    ").process()"
   ]
  },
  {
   "cell_type": "code",
   "execution_count": 106,
   "metadata": {},
   "outputs": [
    {
     "name": "stdin",
     "output_type": "stream",
     "text": [
      "CKAN_API_KEY ····································\n"
     ]
    }
   ],
   "source": [
    "import os\n",
    "CKAN_URL = 'https://www.odata.org.il'\n",
    "if not os.environ.get('CKAN_API_KEY'):\n",
    "    import getpass\n",
    "    CKAN_API_KEY = getpass.getpass('CKAN_API_KEY')"
   ]
  },
  {
   "cell_type": "code",
   "execution_count": 166,
   "metadata": {},
   "outputs": [
    {
     "name": "stdout",
     "output_type": "stream",
     "text": [
      "{'id': 3104, 'date': '2020-03-15T18:08:55', 'text': 'חולה 187- עדכון מקום שהייה (8.3)\\n<a href=\"https://t.me/MOHreport/3060\" target=\"_blank\" rel=\"noopener\">https://t.me/MOHreport/3060</a>', 'images': ''}\n",
      "200\n",
      "{\"help\": \"https://www.odata.org.il/api/3/action/help_show?name=datastore_create\", \"success\": true, \"result\": {\"method\": \"insert\", \"primary_key\": [\"id\"], \"resource_id\": \"ce4c9482-cd3a-485b-af56-d3d7118a7552\"}}\n",
      "200\n"
     ]
    }
   ],
   "source": [
    "from dataflows import load\n",
    "import json\n",
    "\n",
    "data = Flow(\n",
    "    load('data/MOHReport/datapackage.json')\n",
    ").results()[0][0]\n",
    "\n",
    "def format_row(row):\n",
    "    row['date'] = row['date'].strftime('%Y-%m-%dT%H:%M:%S')\n",
    "    row['images'] = '' if not row['images'] else row['images']\n",
    "    return row\n",
    "\n",
    "records = [format_row(row) for row in data]\n",
    "\n",
    "print(records[0])\n",
    "\n",
    "res = requests.post('https://www.odata.org.il/api/3/action/datastore_create', json={\n",
    "    'resource_id': 'ce4c9482-cd3a-485b-af56-d3d7118a7552',\n",
    "    'force': True,\n",
    "    'primary_key': ['id'],\n",
    "}, headers={'Authorization':CKAN_API_KEY})\n",
    "print(res.status_code)\n",
    "print(res.text)\n",
    "assert res.status_code == 200\n",
    "\n",
    "res = requests.post('https://www.odata.org.il/api/3/action/datastore_upsert', json={\n",
    "    'resource_id': 'ce4c9482-cd3a-485b-af56-d3d7118a7552',\n",
    "    'records': records,\n",
    "    'method': 'upsert',\n",
    "    'force': True\n",
    "}, headers={'Authorization':CKAN_API_KEY})\n",
    "print(res.status_code)\n",
    "# print(res.text)\n",
    "assert res.status_code == 200"
   ]
  }
 ],
 "metadata": {
  "kernelspec": {
   "display_name": "Python 3",
   "language": "python",
   "name": "python3"
  },
  "language_info": {
   "codemirror_mode": {
    "name": "ipython",
    "version": 3
   },
   "file_extension": ".py",
   "mimetype": "text/x-python",
   "name": "python",
   "nbconvert_exporter": "python",
   "pygments_lexer": "ipython3",
   "version": "3.6.9"
  }
 },
 "nbformat": 4,
 "nbformat_minor": 4
}
