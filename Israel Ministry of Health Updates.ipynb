{
 "cells": [
  {
   "cell_type": "code",
   "execution_count": 4,
   "metadata": {},
   "outputs": [
    {
     "name": "stdout",
     "output_type": "stream",
     "text": [
      "loading https://t.me/s/MOHreport\n",
      "loading https://t.me/s/MOHreport?before=3217\n",
      "loading https://t.me/s/MOHreport?before=3196\n",
      "loading https://t.me/s/MOHreport?before=3175\n",
      "loading https://t.me/s/MOHreport?before=3155\n",
      "loading https://t.me/s/MOHreport?before=3135\n"
     ]
    },
    {
     "data": {
      "text/html": [
       "<h3>res_1</h3>"
      ],
      "text/plain": [
       "<IPython.core.display.HTML object>"
      ]
     },
     "metadata": {},
     "output_type": "display_data"
    },
    {
     "name": "stdout",
     "output_type": "stream",
     "text": [
      "loading https://t.me/s/MOHreport?before=3114\n",
      "loading https://t.me/s/MOHreport?before=3094\n",
      "loading https://t.me/s/MOHreport?before=3074\n",
      "loading https://t.me/s/MOHreport?before=3054\n",
      "loading https://t.me/s/MOHreport?before=3034\n",
      "loading https://t.me/s/MOHreport?before=3014\n",
      "loading https://t.me/s/MOHreport?before=2993\n",
      "loading https://t.me/s/MOHreport?before=2973\n",
      "loading https://t.me/s/MOHreport?before=2953\n",
      "loading https://t.me/s/MOHreport?before=2932\n",
      "loading https://t.me/s/MOHreport?before=2911\n",
      "loading https://t.me/s/MOHreport?before=2891\n",
      "loading https://t.me/s/MOHreport?before=2871\n",
      "loading https://t.me/s/MOHreport?before=2848\n",
      "loading https://t.me/s/MOHreport?before=2828\n",
      "loading https://t.me/s/MOHreport?before=2807\n",
      "loading https://t.me/s/MOHreport?before=2787\n",
      "loading https://t.me/s/MOHreport?before=2767\n",
      "loading https://t.me/s/MOHreport?before=2747\n",
      "loading https://t.me/s/MOHreport?before=2726\n",
      "loading https://t.me/s/MOHreport?before=2706\n",
      "loading https://t.me/s/MOHreport?before=2686\n",
      "loading https://t.me/s/MOHreport?before=2666\n",
      "loading https://t.me/s/MOHreport?before=2646\n",
      "loading https://t.me/s/MOHreport?before=2626\n",
      "loading https://t.me/s/MOHreport?before=2606\n",
      "loading https://t.me/s/MOHreport?before=2582\n",
      "loading https://t.me/s/MOHreport?before=2562\n",
      "loading https://t.me/s/MOHreport?before=2536\n"
     ]
    },
    {
     "data": {
      "text/html": [
       "<table>\n",
       "<thead>\n",
       "<tr><th>#  </th><th style=\"text-align: right;\">     id\n",
       "(integer)</th><th>date\n",
       "(datetime)                    </th><th>text\n",
       "(string)                                                                                                         </th><th>images\n",
       "(string)     </th></tr>\n",
       "</thead>\n",
       "<tbody>\n",
       "<tr><td>1  </td><td style=\"text-align: right;\">3236</td><td>2020-03-17 21:51:15</td><td>תמונת מצב <i class=\"emoji\" style=\"background-image:url('//telegram.org/img/emoji/40/E2989D.png')\"><b ...</td><td>None</td></tr>\n",
       "<tr><td>2  </td><td style=\"text-align: right;\">3234</td><td>2020-03-17 21:50:39</td><td>None                                                                                                    </td><td>None</td></tr>\n",
       "<tr><td>...</td><td style=\"text-align: right;\">    </td><td>                   </td><td>                                                                                                        </td><td>    </td></tr>\n",
       "<tr><td>648</td><td style=\"text-align: right;\">2509</td><td>2020-01-29 21:43:28</td><td>הודעה לעיתונות קורונה 29.1.20\n",
       "\n",
       "הערב התקיימה התייעצות עם צוות טיפול במגיפות (צט״מ) בראשות מנכ״ל משרד  ...                                                                                                         </td><td>None</td></tr>\n",
       "</tbody>\n",
       "</table>"
      ],
      "text/plain": [
       "<IPython.core.display.HTML object>"
      ]
     },
     "metadata": {},
     "output_type": "display_data"
    },
    {
     "data": {
      "text/plain": [
       "(<datapackage.package.Package at 0x7fe3e632a358>,\n",
       " {'count_of_rows': 648,\n",
       "  'bytes': 665140,\n",
       "  'hash': '36813e5ea4a692399a5ea6bc733eea33',\n",
       "  'dataset_name': None})"
      ]
     },
     "execution_count": 4,
     "metadata": {},
     "output_type": "execute_result"
    }
   ],
   "source": [
    "import requests, datetime, time, pytz\n",
    "from pyquery import PyQuery as pq\n",
    "from dataflows import Flow, printer, dump_to_path, sort_rows\n",
    "\n",
    "\n",
    "def get_messages(before_id=None):\n",
    "    url = 'https://t.me/s/MOHreport'\n",
    "    if before_id:\n",
    "        url += '?before=' + str(before_id)\n",
    "    print('loading ' + url)\n",
    "    for message in pq(requests.get(url).text)('[data-post]'):\n",
    "        message_id = int(message.attrib['data-post'].replace('MOHreport/', ''))\n",
    "        date_elts = message.find_class('tgme_widget_message_date')\n",
    "        assert len(date_elts) == 1\n",
    "        date_elt = date_elts[0]\n",
    "        message_datetime = next(date_elt.iterchildren()).attrib['datetime']\n",
    "        message_datetime = \"\".join(reversed(\"\".join(reversed(message_datetime)).replace(':','',1)))\n",
    "        message_datetime = datetime.datetime.strptime(message_datetime, '%Y-%m-%dT%H:%M:%S%z').astimezone(pytz.timezone('Asia/Jerusalem'))\n",
    "        content_elts = message.find_class('tgme_widget_message_bubble')\n",
    "        assert len(content_elts) == 1\n",
    "        content_elt = content_elts[0]\n",
    "        message_htmls = []\n",
    "        image_urls = []\n",
    "        for child in content_elt.iterchildren():\n",
    "            if 'tgme_widget_message_text' in list(child.classes):\n",
    "                message_htmls.append(pq(child).html())\n",
    "            elif 'tgme_widget_message_photo_wrap' in list(child.classes):\n",
    "                image_urls.append(child.attrib['style'].split(\"url('\")[1].split(\"'\")[0])        \n",
    "        message_html = \"<br/><br/>\".join(message_htmls)\n",
    "        message_text = message_html.replace('<br/>', \"\\n\")\n",
    "        image_urls = \",\".join(image_urls)\n",
    "        yield {'id': message_id, 'date': message_datetime, 'text': message_text, 'images': image_urls}\n",
    "\n",
    "        \n",
    "def get_all_messages(min_message_id=2525):\n",
    "    last_message_id = None\n",
    "    num_messages = 0\n",
    "    while True:\n",
    "        if num_messages > 0 and num_messages % 500 == 0: print('Loaded ' + str(num_messages) + ' messages..')\n",
    "        if last_message_id and last_message_id <= min_message_id: break\n",
    "        for message in get_messages(last_message_id):\n",
    "            if not last_message_id or message['id'] < last_message_id:\n",
    "                last_message_id = message['id']\n",
    "            yield message\n",
    "            num_messages += 1\n",
    "        print('sleeping .1 seconds..')\n",
    "        time.sleep(.1)\n",
    "\n",
    "\n",
    "Flow(\n",
    "    get_all_messages(),\n",
    "    sort_rows('{date}', reverse=True),\n",
    "    printer(tablefmt='html', num_rows=1),\n",
    "    dump_to_path('data/MOHReport')\n",
    ").process()"
   ]
  },
  {
   "cell_type": "code",
   "execution_count": 5,
   "metadata": {},
   "outputs": [
    {
     "name": "stdin",
     "output_type": "stream",
     "text": [
      "CKAN_API_KEY ····································\n"
     ]
    }
   ],
   "source": [
    "import os\n",
    "CKAN_URL = 'https://www.odata.org.il'\n",
    "if os.environ.get('CKAN_API_KEY'):\n",
    "    CKAN_API_KEY = os.environ['CKAN_API_KEY']\n",
    "else:\n",
    "    import getpass\n",
    "    CKAN_API_KEY = getpass.getpass('CKAN_API_KEY')"
   ]
  },
  {
   "cell_type": "code",
   "execution_count": 6,
   "metadata": {},
   "outputs": [
    {
     "name": "stdout",
     "output_type": "stream",
     "text": [
      "{'id': 3236, 'date': '2020-03-17T21:51:15', 'text': 'תמונת מצב <i class=\"emoji\" style=\"background-image:url(\\'//telegram.org/img/emoji/40/E2989D.png\\')\"><b>☝️</b></i>', 'images': ''}\n",
      "200\n",
      "{\"help\": \"https://www.odata.org.il/api/3/action/help_show?name=datastore_create\", \"success\": true, \"result\": {\"method\": \"insert\", \"primary_key\": [\"id\"], \"resource_id\": \"ce4c9482-cd3a-485b-af56-d3d7118a7552\"}}\n",
      "200\n"
     ]
    }
   ],
   "source": [
    "from dataflows import load\n",
    "import json\n",
    "\n",
    "data = Flow(\n",
    "    load('data/MOHReport/datapackage.json')\n",
    ").results()[0][0]\n",
    "\n",
    "def format_row(row):\n",
    "    row['date'] = row['date'].strftime('%Y-%m-%dT%H:%M:%S')\n",
    "    row['images'] = '' if not row['images'] else row['images']\n",
    "    return row\n",
    "\n",
    "records = [format_row(row) for row in data]\n",
    "\n",
    "print(records[0])\n",
    "\n",
    "res = requests.post('https://www.odata.org.il/api/3/action/datastore_create', json={\n",
    "    'resource_id': 'ce4c9482-cd3a-485b-af56-d3d7118a7552',\n",
    "    'force': True,\n",
    "    'primary_key': ['id'],\n",
    "}, headers={'Authorization':CKAN_API_KEY})\n",
    "print(res.status_code)\n",
    "print(res.text)\n",
    "assert res.status_code == 200\n",
    "\n",
    "res = requests.post('https://www.odata.org.il/api/3/action/datastore_upsert', json={\n",
    "    'resource_id': 'ce4c9482-cd3a-485b-af56-d3d7118a7552',\n",
    "    'records': records,\n",
    "    'method': 'upsert',\n",
    "    'force': True\n",
    "}, headers={'Authorization':CKAN_API_KEY})\n",
    "print(res.status_code)\n",
    "# print(res.text)\n",
    "assert res.status_code == 200"
   ]
  },
  {
   "cell_type": "code",
   "execution_count": 7,
   "metadata": {},
   "outputs": [
    {
     "name": "stdin",
     "output_type": "stream",
     "text": [
      "SERVICE_ACCOUNT_FILE ··························································\n"
     ]
    }
   ],
   "source": [
    "if os.environ.get('SERVICE_ACCOUNT_FILE'):\n",
    "    SERVICE_ACCOUNT_FILE = os.environ['SERVICE_ACCOUNT_FILE']\n",
    "else:\n",
    "    import getpass\n",
    "    SERVICE_ACCOUNT_FILE = getpass.getpass('SERVICE_ACCOUNT_FILE')"
   ]
  },
  {
   "cell_type": "code",
   "execution_count": 8,
   "metadata": {},
   "outputs": [],
   "source": [
    "from google.oauth2 import service_account\n",
    "import googleapiclient.discovery\n",
    "\n",
    "SCOPES = ['https://www.googleapis.com/auth/drive']\n",
    "credentials = service_account.Credentials.from_service_account_file(SERVICE_ACCOUNT_FILE, scopes=SCOPES)\n",
    "spreadsheets = googleapiclient.discovery.build('sheets', 'v4', credentials=credentials).spreadsheets()"
   ]
  },
  {
   "cell_type": "code",
   "execution_count": 9,
   "metadata": {},
   "outputs": [],
   "source": [
    "sheets_values = spreadsheets.values().get(spreadsheetId='19pKanFwuABaNyPGISihcqcPuFcIj5e3svcnr5LLm1ns', range='res_1!A:D').execute()['values']"
   ]
  },
  {
   "cell_type": "code",
   "execution_count": 10,
   "metadata": {},
   "outputs": [],
   "source": [
    "sheets_data = {}\n",
    "for rownum, row in enumerate(sheets_values):\n",
    "    if rownum == 0: continue\n",
    "    sheets_data[int(row[0])] = {\n",
    "        'id': int(row[0]),\n",
    "        'date': row[1],\n",
    "        'text': row[2] if len(row) == 3 else '',\n",
    "        'images': row[3] if len(row) == 4 else ''\n",
    "    }"
   ]
  },
  {
   "cell_type": "code",
   "execution_count": 11,
   "metadata": {},
   "outputs": [],
   "source": [
    "for row in sorted(data, key=lambda row: row['id']):\n",
    "    if row['id'] not in sheets_data:\n",
    "        value_input_option = 'RAW'\n",
    "        insert_data_option = 'INSERT_ROWS'\n",
    "        value_range_body = {\n",
    "          \"values\": [[row['id'], row['date'], row['text'], row['images']]]\n",
    "        }\n",
    "        request = spreadsheets.values().append(spreadsheetId='19pKanFwuABaNyPGISihcqcPuFcIj5e3svcnr5LLm1ns', \n",
    "                                               range='res_1!A:D', \n",
    "                                               valueInputOption=value_input_option, \n",
    "                                               insertDataOption=insert_data_option, \n",
    "                                               body=value_range_body)\n",
    "        request.execute()\n",
    "        time.sleep(2)\n"
   ]
  }
 ],
 "metadata": {
  "kernelspec": {
   "display_name": "Python 3",
   "language": "python",
   "name": "python3"
  },
  "language_info": {
   "codemirror_mode": {
    "name": "ipython",
    "version": 3
   },
   "file_extension": ".py",
   "mimetype": "text/x-python",
   "name": "python",
   "nbconvert_exporter": "python",
   "pygments_lexer": "ipython3",
   "version": "3.6.9"
  },
  "pycharm": {
   "stem_cell": {
    "cell_type": "raw",
    "metadata": {
     "collapsed": false
    },
    "source": []
   }
  }
 },
 "nbformat": 4,
 "nbformat_minor": 4
}
